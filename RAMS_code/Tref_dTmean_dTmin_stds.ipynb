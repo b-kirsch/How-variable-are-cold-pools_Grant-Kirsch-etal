{
 "cells": [
  {
   "cell_type": "code",
   "execution_count": 1,
   "metadata": {},
   "outputs": [],
   "source": [
    "import h5py\n",
    "import numpy as np\n",
    "import datetime\n",
    "import pandas as pd"
   ]
  },
  {
   "cell_type": "code",
   "execution_count": 2,
   "metadata": {},
   "outputs": [],
   "source": [
    "# Pick which set of network Temperature you want, comment the rest\n",
    "# Right now I am only using 'cent1' because the \"simulations_overview\" table on the MS Teams only has one\n",
    "# value for each simulation\n",
    "\n",
    "#\n",
    "'''\n",
    "network_Ts_sfolder = './SF16/network_Ts/'\n",
    "num_sim_times = 49\n",
    "startt = datetime.datetime(2019,9,28,22,0)\n",
    "cp_onset = datetime.datetime(2019,9,29,5,30)\n",
    "tfreq = '15min'\n",
    "delta_index_hour = 5\n",
    "'''\n",
    "#\n",
    "\n",
    "#\n",
    "\n",
    "network_Ts_sfolder = './HRT12/network_Ts/'\n",
    "num_sim_times = 121\n",
    "startt = datetime.datetime(2019,9,29,0,0)\n",
    "cp_onset = datetime.datetime(2019,9,29,5,30)\n",
    "tfreq = '5min'\n",
    "delta_index_hour = 13\n",
    "\n",
    "#"
   ]
  },
  {
   "cell_type": "code",
   "execution_count": 3,
   "metadata": {},
   "outputs": [],
   "source": [
    "# Hard code that there are 99 stations and 41 output timesteps along with the start time, and an array of\n",
    "# \"all_times\". Define the \"cp_onset\" here as 0530Z. \"delta_index_hour\" used to define one hour as 5\n",
    "# output timesteps\n",
    "\n",
    "num_stations = 99\n",
    "all_times = pd.date_range(startt, periods=num_sim_times, freq=tfreq)"
   ]
  },
  {
   "cell_type": "code",
   "execution_count": 4,
   "metadata": {},
   "outputs": [],
   "source": [
    "'''\n",
    "Loop over all the times and get all the network temperatures from that time, also save the index \n",
    "corresponding to the CP onset time and convert temperature from C to K\n",
    "'''\n",
    "\n",
    "network_Ts = np.zeros((num_sim_times,num_stations))\n",
    "onset_index = np.NaN\n",
    "for i,currt in enumerate(all_times):\n",
    "    ct_str = currt.strftime(\"%Y-%m-%d-%H%M%S\")\n",
    "    network_T_file =  h5py.File(network_Ts_sfolder+ct_str+'.h5', 'r')\n",
    "    network_Ts[i,:] = np.array(network_T_file['network_Ts'])\n",
    "    network_T_file.close()\n",
    "    if(currt==cp_onset):\n",
    "        onset_index=i\n",
    "network_Ts = network_Ts-273.15"
   ]
  },
  {
   "cell_type": "code",
   "execution_count": 5,
   "metadata": {},
   "outputs": [],
   "source": [
    "'''\n",
    "Determine T_ref, dT_mean, and dT_min as following from the \"simulations_overview\" table on MS Teams:\n",
    "\n",
    "T_ref = Average over all stations over one hour before cold pool onset \n",
    "\n",
    "ΔT_mean = Mean  temperature perturbation relative to T_ref over all stations within one hour after cold \n",
    "pool onset  \n",
    "\n",
    "ΔT_min = Strongest temperature perturbation relative to T_ref at any station over the life time of the \n",
    "cold pool \n",
    "'''\n",
    "\n",
    "T_ref = np.mean(network_Ts[onset_index-delta_index_hour:onset_index,:])\n",
    "dT_mean = np.mean(network_Ts[onset_index:onset_index+delta_index_hour,:]-T_ref)\n",
    "dT_min = np.min(network_Ts[onset_index:onset_index+delta_index_hour,:]-T_ref)"
   ]
  },
  {
   "cell_type": "code",
   "execution_count": 6,
   "metadata": {},
   "outputs": [
    {
     "name": "stdout",
     "output_type": "stream",
     "text": [
      "27.263672578923813\n",
      "-1.5810451601225366\n",
      "-3.9880159493298315\n"
     ]
    }
   ],
   "source": [
    "# Print the results\n",
    "\n",
    "print(T_ref)\n",
    "print(dT_mean)\n",
    "print(dT_min)"
   ]
  },
  {
   "cell_type": "code",
   "execution_count": 7,
   "metadata": {},
   "outputs": [],
   "source": [
    "# Calculate the standard devation of temperature for each time\n",
    "\n",
    "network_stds = np.std(network_Ts,axis=1)"
   ]
  },
  {
   "cell_type": "code",
   "execution_count": 8,
   "metadata": {},
   "outputs": [],
   "source": [
    "'''\n",
    "Determine std_mean and std_max:\n",
    "\n",
    "std_mean = Mean standard deviation within one hour after cold pool onset\n",
    "\n",
    "std_max = Max standard deviation over the life time of the cold pool\n",
    "'''\n",
    "\n",
    "std_mean = np.mean(network_stds[onset_index:onset_index+delta_index_hour])\n",
    "std_max = np.max(network_stds[onset_index:onset_index+delta_index_hour])"
   ]
  },
  {
   "cell_type": "code",
   "execution_count": 9,
   "metadata": {},
   "outputs": [
    {
     "name": "stdout",
     "output_type": "stream",
     "text": [
      "0.6872809735178728\n",
      "1.0549883260363404\n"
     ]
    }
   ],
   "source": [
    "# Print the results\n",
    "\n",
    "print(std_mean)\n",
    "print(std_max)"
   ]
  },
  {
   "cell_type": "code",
   "execution_count": null,
   "metadata": {},
   "outputs": [],
   "source": []
  }
 ],
 "metadata": {
  "kernelspec": {
   "display_name": "Python 3",
   "language": "python",
   "name": "python3"
  },
  "language_info": {
   "codemirror_mode": {
    "name": "ipython",
    "version": 3
   },
   "file_extension": ".py",
   "mimetype": "text/x-python",
   "name": "python",
   "nbconvert_exporter": "python",
   "pygments_lexer": "ipython3",
   "version": "3.8.5"
  }
 },
 "nbformat": 4,
 "nbformat_minor": 4
}
